{
 "cells": [
  {
   "cell_type": "code",
   "execution_count": 1,
   "metadata": {},
   "outputs": [],
   "source": [
    "import pandas as pd\n",
    "from database_clients import SQLiteClient, PostgreSQLClient\n",
    "from database_clients import PostgreSQLClient, SQLiteClient\n",
    "from sqlalchemy import create_engine\n",
    "import os"
   ]
  },
  {
   "cell_type": "code",
   "execution_count": 2,
   "metadata": {},
   "outputs": [],
   "source": [
    "from dotenv import load_dotenv\n",
    "load_dotenv()\n",
    "\n",
    "DATA_VENDOR_URL = os.getenv(\"DATA_VENDOR_URL\")\n",
    "USE_POSTGRESQL = os.getenv(\"USE_POSTGRESQL\") == \"True\"\n",
    "POSTGRESQL_HOST = os.getenv(\"POSTGRESQL_HOST\")\n",
    "POSTGRESQL_PORT = int(os.getenv(\"POSTGRESQL_PORT\"))\n",
    "POSTGRESQL_USER = os.getenv(\"POSTGRESQL_USER\")\n",
    "POSTGRESQL_PASSWORD = os.getenv(\"POSTGRESQL_PASSWORD\")\n",
    "POSTGRESQL_DB = os.getenv(\"POSTGRESQL_DB\")"
   ]
  },
  {
   "cell_type": "code",
   "execution_count": 3,
   "metadata": {},
   "outputs": [
    {
     "name": "stdout",
     "output_type": "stream",
     "text": [
      "Using SQLite\n"
     ]
    }
   ],
   "source": [
    "if USE_POSTGRESQL:\n",
    "    print(\"Using PostgreSQL\")\n",
    "    client = PostgreSQLClient(\n",
    "        dbname=POSTGRESQL_DB,\n",
    "        user=POSTGRESQL_USER,\n",
    "        password=POSTGRESQL_PASSWORD,\n",
    "        host=POSTGRESQL_HOST,\n",
    "        port=POSTGRESQL_PORT,\n",
    "    )\n",
    "    client.connect()\n",
    "    client_engine = create_engine(\n",
    "        f\"postgresql://{POSTGRESQL_USER}:{POSTGRESQL_PASSWORD}@{POSTGRESQL_HOST}:{POSTGRESQL_PORT}/{POSTGRESQL_DB}\"\n",
    "    )\n",
    "else:\n",
    "    print(\"Using SQLite\")\n",
    "    client = SQLiteClient(\"datawarehouse.sqlite\")\n",
    "    client_engine = client.connect()"
   ]
  },
  {
   "cell_type": "code",
   "execution_count": 37,
   "metadata": {},
   "outputs": [],
   "source": [
    "# sqlite.execute(\"UPDATE datacatalog SET data_inserted = False WHERE file_name = 'clickstream-dewiki-2017-11.tsv.gz'\")\n",
    "# sqlite.execute(\"UPDATE datacatalog SET size_in_bytes = 0 WHERE file_name = 'clickstream-dewiki-2017-11.tsv.gz'\")\n",
    "# sqlite.execute(\"UPDATE datacatalog SET number_of_rows = 0 WHERE file_name = 'clickstream-dewiki-2017-11.tsv.gz'\")"
   ]
  },
  {
   "cell_type": "code",
   "execution_count": 5,
   "metadata": {},
   "outputs": [],
   "source": [
    "datacatalog = pd.read_sql(\"SELECT * FROM datacatalog\", client_engine)\n",
    "# clickstream = pd.read_sql(\"SELECT * FROM clickstream\", client_engine)"
   ]
  },
  {
   "cell_type": "code",
   "execution_count": 6,
   "metadata": {},
   "outputs": [
    {
     "data": {
      "text/html": [
       "<div>\n",
       "<style scoped>\n",
       "    .dataframe tbody tr th:only-of-type {\n",
       "        vertical-align: middle;\n",
       "    }\n",
       "\n",
       "    .dataframe tbody tr th {\n",
       "        vertical-align: top;\n",
       "    }\n",
       "\n",
       "    .dataframe thead th {\n",
       "        text-align: right;\n",
       "    }\n",
       "</style>\n",
       "<table border=\"1\" class=\"dataframe\">\n",
       "  <thead>\n",
       "    <tr style=\"text-align: right;\">\n",
       "      <th></th>\n",
       "      <th>folder_name</th>\n",
       "      <th>file_name</th>\n",
       "      <th>resource_url</th>\n",
       "      <th>size_in_bytes</th>\n",
       "      <th>data_inserted</th>\n",
       "      <th>number_of_rows</th>\n",
       "    </tr>\n",
       "  </thead>\n",
       "  <tbody>\n",
       "    <tr>\n",
       "      <th>0</th>\n",
       "      <td>2017-11</td>\n",
       "      <td>clickstream-dewiki-2017-11.tsv.gz</td>\n",
       "      <td>https://dumps.wikimedia.org/other/clickstream/...</td>\n",
       "      <td>55043649</td>\n",
       "      <td>1</td>\n",
       "      <td>4888887</td>\n",
       "    </tr>\n",
       "    <tr>\n",
       "      <th>1</th>\n",
       "      <td>2017-11</td>\n",
       "      <td>clickstream-enwiki-2017-11.tsv.gz</td>\n",
       "      <td>https://dumps.wikimedia.org/other/clickstream/...</td>\n",
       "      <td>311753414</td>\n",
       "      <td>1</td>\n",
       "      <td>25982518</td>\n",
       "    </tr>\n",
       "    <tr>\n",
       "      <th>2</th>\n",
       "      <td>2017-11</td>\n",
       "      <td>clickstream-eswiki-2017-11.tsv.gz</td>\n",
       "      <td>https://dumps.wikimedia.org/other/clickstream/...</td>\n",
       "      <td>35215170</td>\n",
       "      <td>1</td>\n",
       "      <td>3127869</td>\n",
       "    </tr>\n",
       "    <tr>\n",
       "      <th>3</th>\n",
       "      <td>2017-11</td>\n",
       "      <td>clickstream-jawiki-2017-11.tsv.gz</td>\n",
       "      <td>https://dumps.wikimedia.org/other/clickstream/...</td>\n",
       "      <td>21743549</td>\n",
       "      <td>1</td>\n",
       "      <td>2066173</td>\n",
       "    </tr>\n",
       "    <tr>\n",
       "      <th>4</th>\n",
       "      <td>2017-11</td>\n",
       "      <td>clickstream-ruwiki-2017-11.tsv.gz</td>\n",
       "      <td>https://dumps.wikimedia.org/other/clickstream/...</td>\n",
       "      <td>32058087</td>\n",
       "      <td>1</td>\n",
       "      <td>2507977</td>\n",
       "    </tr>\n",
       "  </tbody>\n",
       "</table>\n",
       "</div>"
      ],
      "text/plain": [
       "  folder_name                          file_name  \\\n",
       "0     2017-11  clickstream-dewiki-2017-11.tsv.gz   \n",
       "1     2017-11  clickstream-enwiki-2017-11.tsv.gz   \n",
       "2     2017-11  clickstream-eswiki-2017-11.tsv.gz   \n",
       "3     2017-11  clickstream-jawiki-2017-11.tsv.gz   \n",
       "4     2017-11  clickstream-ruwiki-2017-11.tsv.gz   \n",
       "\n",
       "                                        resource_url  size_in_bytes  \\\n",
       "0  https://dumps.wikimedia.org/other/clickstream/...       55043649   \n",
       "1  https://dumps.wikimedia.org/other/clickstream/...      311753414   \n",
       "2  https://dumps.wikimedia.org/other/clickstream/...       35215170   \n",
       "3  https://dumps.wikimedia.org/other/clickstream/...       21743549   \n",
       "4  https://dumps.wikimedia.org/other/clickstream/...       32058087   \n",
       "\n",
       "   data_inserted  number_of_rows  \n",
       "0              1         4888887  \n",
       "1              1        25982518  \n",
       "2              1         3127869  \n",
       "3              1         2066173  \n",
       "4              1         2507977  "
      ]
     },
     "execution_count": 6,
     "metadata": {},
     "output_type": "execute_result"
    }
   ],
   "source": [
    "datacatalog.head()"
   ]
  },
  {
   "cell_type": "code",
   "execution_count": null,
   "metadata": {},
   "outputs": [],
   "source": [
    "clickstream = pd.read_sql(\"SELECT * FROM clickstream\", client_engine)"
   ]
  },
  {
   "cell_type": "code",
   "execution_count": 12,
   "metadata": {},
   "outputs": [
    {
     "data": {
      "text/html": [
       "<div>\n",
       "<style scoped>\n",
       "    .dataframe tbody tr th:only-of-type {\n",
       "        vertical-align: middle;\n",
       "    }\n",
       "\n",
       "    .dataframe tbody tr th {\n",
       "        vertical-align: top;\n",
       "    }\n",
       "\n",
       "    .dataframe thead th {\n",
       "        text-align: right;\n",
       "    }\n",
       "</style>\n",
       "<table border=\"1\" class=\"dataframe\">\n",
       "  <thead>\n",
       "    <tr style=\"text-align: right;\">\n",
       "      <th></th>\n",
       "      <th>referrer</th>\n",
       "      <th>resource</th>\n",
       "      <th>type</th>\n",
       "      <th>number_of_occurrences</th>\n",
       "    </tr>\n",
       "  </thead>\n",
       "  <tbody>\n",
       "    <tr>\n",
       "      <th>0</th>\n",
       "      <td>other-search</td>\n",
       "      <td>Ludwig_Maurer_(Unternehmer)</td>\n",
       "      <td>external</td>\n",
       "      <td>14</td>\n",
       "    </tr>\n",
       "    <tr>\n",
       "      <th>1</th>\n",
       "      <td>Nile_(Band)</td>\n",
       "      <td>At_the_Gate_of_Sethu</td>\n",
       "      <td>link</td>\n",
       "      <td>24</td>\n",
       "    </tr>\n",
       "    <tr>\n",
       "      <th>2</th>\n",
       "      <td>Schramberg</td>\n",
       "      <td>Schweizer_Electronic</td>\n",
       "      <td>link</td>\n",
       "      <td>21</td>\n",
       "    </tr>\n",
       "    <tr>\n",
       "      <th>3</th>\n",
       "      <td>other-empty</td>\n",
       "      <td>Schweizer_Electronic</td>\n",
       "      <td>external</td>\n",
       "      <td>29</td>\n",
       "    </tr>\n",
       "    <tr>\n",
       "      <th>4</th>\n",
       "      <td>Liste_der_börsennotierten_deutschen_Unternehmen</td>\n",
       "      <td>Schweizer_Electronic</td>\n",
       "      <td>link</td>\n",
       "      <td>12</td>\n",
       "    </tr>\n",
       "  </tbody>\n",
       "</table>\n",
       "</div>"
      ],
      "text/plain": [
       "                                          referrer  \\\n",
       "0                                     other-search   \n",
       "1                                      Nile_(Band)   \n",
       "2                                       Schramberg   \n",
       "3                                      other-empty   \n",
       "4  Liste_der_börsennotierten_deutschen_Unternehmen   \n",
       "\n",
       "                      resource      type number_of_occurrences  \n",
       "0  Ludwig_Maurer_(Unternehmer)  external                    14  \n",
       "1         At_the_Gate_of_Sethu      link                    24  \n",
       "2         Schweizer_Electronic      link                    21  \n",
       "3         Schweizer_Electronic  external                    29  \n",
       "4         Schweizer_Electronic      link                    12  "
      ]
     },
     "execution_count": 12,
     "metadata": {},
     "output_type": "execute_result"
    }
   ],
   "source": [
    "file_path = os.path.join(\"data\", \"2021-01\", \"clickstream-dewiki-2021-01.tsv.gz\")\n",
    "columns = [\"referrer\", \"resource\", \"type\", \"number_of_occurrences\"]\n",
    "# df = pd.read_csv(file_path, names=columns, sep='\\t', compression='gzip', low_memory=False)\n",
    "try:\n",
    "    # df = pd.read_table(file_path, compression='gzip',  names=columns, low_memory=False)\n",
    "    df = pd.read_table(file_path, compression='gzip', usecols= range(0,4), header=None, low_memory=False)\n",
    "    df.columns = columns\n",
    "except pd.errors.ParserError as err:\n",
    "    print(err)\n",
    "    print(f\"File {file_path} is corrupt\")\n",
    "    find = 'saw '\n",
    "    position = int(str(err).find(find)) + len(find)\n",
    "    col_n = str(err)[position:]\n",
    "    col_range = range(int(col_n))\n",
    "    df = pd.read_table(file_path, compression='gzip',  names=col_range, low_memory=False)\n",
    "    cols = range(len(columns))\n",
    "    df = df.loc[:,cols]\n",
    "    df.columns = columns\n",
    "\n",
    "df.head()"
   ]
  },
  {
   "cell_type": "code",
   "execution_count": 13,
   "metadata": {},
   "outputs": [
    {
     "data": {
      "text/plain": [
       "(5838404, 4)"
      ]
     },
     "execution_count": 13,
     "metadata": {},
     "output_type": "execute_result"
    }
   ],
   "source": [
    "# del df[\"XXX\"]\n",
    "# df.XXX.notna().sum()\n",
    "df.shape"
   ]
  },
  {
   "cell_type": "code",
   "execution_count": 14,
   "metadata": {},
   "outputs": [
    {
     "data": {
      "text/plain": [
       "(503, 6)"
      ]
     },
     "execution_count": 14,
     "metadata": {},
     "output_type": "execute_result"
    }
   ],
   "source": [
    "datacatalog.shape"
   ]
  },
  {
   "cell_type": "code",
   "execution_count": 15,
   "metadata": {},
   "outputs": [
    {
     "data": {
      "text/plain": [
       "folder_name       object\n",
       "file_name         object\n",
       "resource_url      object\n",
       "size_in_bytes      int64\n",
       "data_inserted       bool\n",
       "number_of_rows     int64\n",
       "dtype: object"
      ]
     },
     "execution_count": 15,
     "metadata": {},
     "output_type": "execute_result"
    }
   ],
   "source": [
    "datacatalog.dtypes"
   ]
  },
  {
   "cell_type": "code",
   "execution_count": 16,
   "metadata": {},
   "outputs": [
    {
     "data": {
      "text/plain": [
       "False    503\n",
       "Name: data_inserted, dtype: int64"
      ]
     },
     "execution_count": 16,
     "metadata": {},
     "output_type": "execute_result"
    }
   ],
   "source": [
    "datacatalog.data_inserted.value_counts()"
   ]
  },
  {
   "cell_type": "code",
   "execution_count": 17,
   "metadata": {},
   "outputs": [
    {
     "data": {
      "text/plain": [
       "109"
      ]
     },
     "execution_count": 17,
     "metadata": {},
     "output_type": "execute_result"
    }
   ],
   "source": [
    "datacatalog[datacatalog[\"size_in_bytes\"]> 0].shape[0]"
   ]
  },
  {
   "cell_type": "code",
   "execution_count": 34,
   "metadata": {},
   "outputs": [],
   "source": [
    "sqlite.disconnect()"
   ]
  },
  {
   "cell_type": "code",
   "execution_count": null,
   "metadata": {},
   "outputs": [],
   "source": []
  }
 ],
 "metadata": {
  "interpreter": {
   "hash": "7e5dd7b5ba92773b072f948825c7f59bcabc08784f1f992d01c711dc0e374e40"
  },
  "kernelspec": {
   "display_name": "Python 3.7.8 64-bit",
   "language": "python",
   "name": "python3"
  },
  "language_info": {
   "codemirror_mode": {
    "name": "ipython",
    "version": 3
   },
   "file_extension": ".py",
   "mimetype": "text/x-python",
   "name": "python",
   "nbconvert_exporter": "python",
   "pygments_lexer": "ipython3",
   "version": "3.7.6"
  },
  "orig_nbformat": 4
 },
 "nbformat": 4,
 "nbformat_minor": 2
}
