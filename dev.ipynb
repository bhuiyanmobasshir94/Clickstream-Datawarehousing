{
 "cells": [
  {
   "cell_type": "code",
   "execution_count": 6,
   "metadata": {},
   "outputs": [],
   "source": [
    "import pandas as pd\n",
    "from database_clients import SQLiteClient\n",
    "import os"
   ]
  },
  {
   "cell_type": "code",
   "execution_count": 2,
   "metadata": {},
   "outputs": [],
   "source": [
    "sqlite = SQLiteClient(\"datawarehouse.sqlite\")\n",
    "sqlite_engine = sqlite.connect()"
   ]
  },
  {
   "cell_type": "code",
   "execution_count": 37,
   "metadata": {},
   "outputs": [],
   "source": [
    "# sqlite.execute(\"UPDATE datacatalog SET data_inserted = False WHERE file_name = 'clickstream-dewiki-2017-11.tsv.gz'\")\n",
    "# sqlite.execute(\"UPDATE datacatalog SET size_in_bytes = 0 WHERE file_name = 'clickstream-dewiki-2017-11.tsv.gz'\")\n",
    "# sqlite.execute(\"UPDATE datacatalog SET number_of_rows = 0 WHERE file_name = 'clickstream-dewiki-2017-11.tsv.gz'\")"
   ]
  },
  {
   "cell_type": "code",
   "execution_count": 3,
   "metadata": {},
   "outputs": [],
   "source": [
    "datacatalog = pd.read_sql(\"SELECT * FROM datacatalog\", sqlite_engine)\n",
    "# clickstream = pd.read_sql(\"SELECT * FROM clickstream\", sqlite_engine)"
   ]
  },
  {
   "cell_type": "code",
   "execution_count": 4,
   "metadata": {},
   "outputs": [
    {
     "data": {
      "text/html": [
       "<div>\n",
       "<style scoped>\n",
       "    .dataframe tbody tr th:only-of-type {\n",
       "        vertical-align: middle;\n",
       "    }\n",
       "\n",
       "    .dataframe tbody tr th {\n",
       "        vertical-align: top;\n",
       "    }\n",
       "\n",
       "    .dataframe thead th {\n",
       "        text-align: right;\n",
       "    }\n",
       "</style>\n",
       "<table border=\"1\" class=\"dataframe\">\n",
       "  <thead>\n",
       "    <tr style=\"text-align: right;\">\n",
       "      <th></th>\n",
       "      <th>folder_name</th>\n",
       "      <th>file_name</th>\n",
       "      <th>resource_url</th>\n",
       "      <th>size_in_bytes</th>\n",
       "      <th>data_inserted</th>\n",
       "      <th>number_of_rows</th>\n",
       "    </tr>\n",
       "  </thead>\n",
       "  <tbody>\n",
       "    <tr>\n",
       "      <th>0</th>\n",
       "      <td>2017-11</td>\n",
       "      <td>clickstream-dewiki-2017-11.tsv.gz</td>\n",
       "      <td>https://dumps.wikimedia.org/other/clickstream/...</td>\n",
       "      <td>55043649</td>\n",
       "      <td>1</td>\n",
       "      <td>4888887</td>\n",
       "    </tr>\n",
       "    <tr>\n",
       "      <th>1</th>\n",
       "      <td>2017-11</td>\n",
       "      <td>clickstream-enwiki-2017-11.tsv.gz</td>\n",
       "      <td>https://dumps.wikimedia.org/other/clickstream/...</td>\n",
       "      <td>311753414</td>\n",
       "      <td>1</td>\n",
       "      <td>25982518</td>\n",
       "    </tr>\n",
       "    <tr>\n",
       "      <th>2</th>\n",
       "      <td>2017-11</td>\n",
       "      <td>clickstream-eswiki-2017-11.tsv.gz</td>\n",
       "      <td>https://dumps.wikimedia.org/other/clickstream/...</td>\n",
       "      <td>35215170</td>\n",
       "      <td>1</td>\n",
       "      <td>3127869</td>\n",
       "    </tr>\n",
       "    <tr>\n",
       "      <th>3</th>\n",
       "      <td>2017-11</td>\n",
       "      <td>clickstream-jawiki-2017-11.tsv.gz</td>\n",
       "      <td>https://dumps.wikimedia.org/other/clickstream/...</td>\n",
       "      <td>21743549</td>\n",
       "      <td>1</td>\n",
       "      <td>2066173</td>\n",
       "    </tr>\n",
       "    <tr>\n",
       "      <th>4</th>\n",
       "      <td>2017-11</td>\n",
       "      <td>clickstream-ruwiki-2017-11.tsv.gz</td>\n",
       "      <td>https://dumps.wikimedia.org/other/clickstream/...</td>\n",
       "      <td>32058087</td>\n",
       "      <td>1</td>\n",
       "      <td>2507977</td>\n",
       "    </tr>\n",
       "  </tbody>\n",
       "</table>\n",
       "</div>"
      ],
      "text/plain": [
       "  folder_name                          file_name  \\\n",
       "0     2017-11  clickstream-dewiki-2017-11.tsv.gz   \n",
       "1     2017-11  clickstream-enwiki-2017-11.tsv.gz   \n",
       "2     2017-11  clickstream-eswiki-2017-11.tsv.gz   \n",
       "3     2017-11  clickstream-jawiki-2017-11.tsv.gz   \n",
       "4     2017-11  clickstream-ruwiki-2017-11.tsv.gz   \n",
       "\n",
       "                                        resource_url  size_in_bytes  \\\n",
       "0  https://dumps.wikimedia.org/other/clickstream/...       55043649   \n",
       "1  https://dumps.wikimedia.org/other/clickstream/...      311753414   \n",
       "2  https://dumps.wikimedia.org/other/clickstream/...       35215170   \n",
       "3  https://dumps.wikimedia.org/other/clickstream/...       21743549   \n",
       "4  https://dumps.wikimedia.org/other/clickstream/...       32058087   \n",
       "\n",
       "   data_inserted  number_of_rows  \n",
       "0              1         4888887  \n",
       "1              1        25982518  \n",
       "2              1         3127869  \n",
       "3              1         2066173  \n",
       "4              1         2507977  "
      ]
     },
     "execution_count": 4,
     "metadata": {},
     "output_type": "execute_result"
    }
   ],
   "source": [
    "datacatalog.head()"
   ]
  },
  {
   "cell_type": "code",
   "execution_count": 5,
   "metadata": {},
   "outputs": [
    {
     "data": {
      "text/plain": [
       "404    clickstream-dewiki-2021-01.tsv.gz\n",
       "405    clickstream-enwiki-2021-01.tsv.gz\n",
       "406    clickstream-eswiki-2021-01.tsv.gz\n",
       "407    clickstream-fawiki-2021-01.tsv.gz\n",
       "408    clickstream-frwiki-2021-01.tsv.gz\n",
       "409    clickstream-itwiki-2021-01.tsv.gz\n",
       "410    clickstream-jawiki-2021-01.tsv.gz\n",
       "411    clickstream-plwiki-2021-01.tsv.gz\n",
       "412    clickstream-ptwiki-2021-01.tsv.gz\n",
       "413    clickstream-ruwiki-2021-01.tsv.gz\n",
       "414    clickstream-zhwiki-2021-01.tsv.gz\n",
       "Name: file_name, dtype: object"
      ]
     },
     "execution_count": 5,
     "metadata": {},
     "output_type": "execute_result"
    }
   ],
   "source": [
    "datacatalog.loc[datacatalog['folder_name'] == '2021-01', 'file_name']"
   ]
  },
  {
   "cell_type": "code",
   "execution_count": 40,
   "metadata": {},
   "outputs": [
    {
     "data": {
      "text/html": [
       "<div>\n",
       "<style scoped>\n",
       "    .dataframe tbody tr th:only-of-type {\n",
       "        vertical-align: middle;\n",
       "    }\n",
       "\n",
       "    .dataframe tbody tr th {\n",
       "        vertical-align: top;\n",
       "    }\n",
       "\n",
       "    .dataframe thead th {\n",
       "        text-align: right;\n",
       "    }\n",
       "</style>\n",
       "<table border=\"1\" class=\"dataframe\">\n",
       "  <thead>\n",
       "    <tr style=\"text-align: right;\">\n",
       "      <th></th>\n",
       "      <th>referrer</th>\n",
       "      <th>resource</th>\n",
       "      <th>type</th>\n",
       "      <th>number_of_occurrences</th>\n",
       "    </tr>\n",
       "  </thead>\n",
       "  <tbody>\n",
       "    <tr>\n",
       "      <th>0</th>\n",
       "      <td>other-search</td>\n",
       "      <td>Ludwig_Maurer_(Unternehmer)</td>\n",
       "      <td>external</td>\n",
       "      <td>14</td>\n",
       "    </tr>\n",
       "    <tr>\n",
       "      <th>1</th>\n",
       "      <td>Nile_(Band)</td>\n",
       "      <td>At_the_Gate_of_Sethu</td>\n",
       "      <td>link</td>\n",
       "      <td>24</td>\n",
       "    </tr>\n",
       "    <tr>\n",
       "      <th>2</th>\n",
       "      <td>Schramberg</td>\n",
       "      <td>Schweizer_Electronic</td>\n",
       "      <td>link</td>\n",
       "      <td>21</td>\n",
       "    </tr>\n",
       "    <tr>\n",
       "      <th>3</th>\n",
       "      <td>other-empty</td>\n",
       "      <td>Schweizer_Electronic</td>\n",
       "      <td>external</td>\n",
       "      <td>29</td>\n",
       "    </tr>\n",
       "    <tr>\n",
       "      <th>4</th>\n",
       "      <td>Liste_der_börsennotierten_deutschen_Unternehmen</td>\n",
       "      <td>Schweizer_Electronic</td>\n",
       "      <td>link</td>\n",
       "      <td>12</td>\n",
       "    </tr>\n",
       "  </tbody>\n",
       "</table>\n",
       "</div>"
      ],
      "text/plain": [
       "                                          referrer  \\\n",
       "0                                     other-search   \n",
       "1                                      Nile_(Band)   \n",
       "2                                       Schramberg   \n",
       "3                                      other-empty   \n",
       "4  Liste_der_börsennotierten_deutschen_Unternehmen   \n",
       "\n",
       "                      resource      type number_of_occurrences  \n",
       "0  Ludwig_Maurer_(Unternehmer)  external                    14  \n",
       "1         At_the_Gate_of_Sethu      link                    24  \n",
       "2         Schweizer_Electronic      link                    21  \n",
       "3         Schweizer_Electronic  external                    29  \n",
       "4         Schweizer_Electronic      link                    12  "
      ]
     },
     "execution_count": 40,
     "metadata": {},
     "output_type": "execute_result"
    }
   ],
   "source": [
    "file_path = os.path.join(\"data\", \"2021-01\", \"clickstream-dewiki-2021-01.tsv.gz\")\n",
    "columns = [\"referrer\", \"resource\", \"type\", \"number_of_occurrences\"]\n",
    "# df = pd.read_csv(file_path, names=columns, sep='\\t', compression='gzip', low_memory=False)\n",
    "try:\n",
    "    # df = pd.read_table(file_path, compression='gzip',  names=columns, low_memory=False)\n",
    "    df = pd.read_table(file_path, compression='gzip', usecols= range(0,4), header=None, low_memory=False)\n",
    "    df.columns = columns\n",
    "except pd.errors.ParserError as err:\n",
    "    print(err)\n",
    "    print(f\"File {file_path} is corrupt\")\n",
    "    find = 'saw '\n",
    "    position = int(str(err).find(find)) + len(find)\n",
    "    col_n = str(err)[position:]\n",
    "    col_range = range(int(col_n))\n",
    "    df = pd.read_table(file_path, compression='gzip',  names=col_range, low_memory=False)\n",
    "    cols = range(len(columns))\n",
    "    df = df.loc[:,cols]\n",
    "    df.columns = columns\n",
    "\n",
    "df.head()"
   ]
  },
  {
   "cell_type": "code",
   "execution_count": 36,
   "metadata": {},
   "outputs": [
    {
     "data": {
      "text/plain": [
       "(5838404, 4)"
      ]
     },
     "execution_count": 36,
     "metadata": {},
     "output_type": "execute_result"
    }
   ],
   "source": [
    "# del df[\"XXX\"]\n",
    "# df.XXX.notna().sum()\n",
    "df.shape"
   ]
  },
  {
   "cell_type": "code",
   "execution_count": 30,
   "metadata": {},
   "outputs": [
    {
     "data": {
      "text/plain": [
       "(503, 6)"
      ]
     },
     "execution_count": 30,
     "metadata": {},
     "output_type": "execute_result"
    }
   ],
   "source": [
    "datacatalog.shape"
   ]
  },
  {
   "cell_type": "code",
   "execution_count": 31,
   "metadata": {},
   "outputs": [
    {
     "data": {
      "text/plain": [
       "folder_name       object\n",
       "file_name         object\n",
       "resource_url      object\n",
       "size_in_bytes      int64\n",
       "data_inserted      int64\n",
       "number_of_rows     int64\n",
       "dtype: object"
      ]
     },
     "execution_count": 31,
     "metadata": {},
     "output_type": "execute_result"
    }
   ],
   "source": [
    "datacatalog.dtypes"
   ]
  },
  {
   "cell_type": "code",
   "execution_count": 32,
   "metadata": {},
   "outputs": [
    {
     "data": {
      "text/plain": [
       "0    503\n",
       "Name: data_inserted, dtype: int64"
      ]
     },
     "execution_count": 32,
     "metadata": {},
     "output_type": "execute_result"
    }
   ],
   "source": [
    "datacatalog.data_inserted.value_counts()"
   ]
  },
  {
   "cell_type": "code",
   "execution_count": 33,
   "metadata": {},
   "outputs": [
    {
     "data": {
      "text/plain": [
       "109"
      ]
     },
     "execution_count": 33,
     "metadata": {},
     "output_type": "execute_result"
    }
   ],
   "source": [
    "datacatalog[datacatalog[\"size_in_bytes\"]> 0].shape[0]"
   ]
  },
  {
   "cell_type": "code",
   "execution_count": 34,
   "metadata": {},
   "outputs": [],
   "source": [
    "sqlite.disconnect()"
   ]
  },
  {
   "cell_type": "code",
   "execution_count": null,
   "metadata": {},
   "outputs": [],
   "source": []
  }
 ],
 "metadata": {
  "interpreter": {
   "hash": "7e5dd7b5ba92773b072f948825c7f59bcabc08784f1f992d01c711dc0e374e40"
  },
  "kernelspec": {
   "display_name": "Python 3.7.8 64-bit",
   "language": "python",
   "name": "python3"
  },
  "language_info": {
   "codemirror_mode": {
    "name": "ipython",
    "version": 3
   },
   "file_extension": ".py",
   "mimetype": "text/x-python",
   "name": "python",
   "nbconvert_exporter": "python",
   "pygments_lexer": "ipython3",
   "version": "3.7.6"
  },
  "orig_nbformat": 4
 },
 "nbformat": 4,
 "nbformat_minor": 2
}
