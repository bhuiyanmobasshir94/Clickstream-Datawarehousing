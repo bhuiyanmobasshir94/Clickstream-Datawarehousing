{
 "cells": [
  {
   "cell_type": "code",
   "execution_count": 25,
   "metadata": {},
   "outputs": [],
   "source": [
    "import pandas as pd\n",
    "from database_clients import SQLiteClient"
   ]
  },
  {
   "cell_type": "code",
   "execution_count": 26,
   "metadata": {},
   "outputs": [],
   "source": [
    "sqlite = SQLiteClient(\"datawarehouse.sqlite\")\n",
    "sqlite_engine = sqlite.connect()"
   ]
  },
  {
   "cell_type": "code",
   "execution_count": 27,
   "metadata": {},
   "outputs": [],
   "source": [
    "# sqlite.execute(\"UPDATE datacatalog SET data_inserted = False WHERE file_name = 'clickstream-dewiki-2017-11.tsv.gz'\")\n",
    "# sqlite.execute(\"UPDATE datacatalog SET size_in_bytes = 0 WHERE file_name = 'clickstream-dewiki-2017-11.tsv.gz'\")\n",
    "# sqlite.execute(\"UPDATE datacatalog SET number_of_rows = 0 WHERE file_name = 'clickstream-dewiki-2017-11.tsv.gz'\")"
   ]
  },
  {
   "cell_type": "code",
   "execution_count": 28,
   "metadata": {},
   "outputs": [],
   "source": [
    "datacatalog = pd.read_sql(\"SELECT * FROM datacatalog\", sqlite_engine)"
   ]
  },
  {
   "cell_type": "code",
   "execution_count": 29,
   "metadata": {},
   "outputs": [
    {
     "data": {
      "text/html": [
       "<div>\n",
       "<style scoped>\n",
       "    .dataframe tbody tr th:only-of-type {\n",
       "        vertical-align: middle;\n",
       "    }\n",
       "\n",
       "    .dataframe tbody tr th {\n",
       "        vertical-align: top;\n",
       "    }\n",
       "\n",
       "    .dataframe thead th {\n",
       "        text-align: right;\n",
       "    }\n",
       "</style>\n",
       "<table border=\"1\" class=\"dataframe\">\n",
       "  <thead>\n",
       "    <tr style=\"text-align: right;\">\n",
       "      <th></th>\n",
       "      <th>folder_name</th>\n",
       "      <th>file_name</th>\n",
       "      <th>resource_url</th>\n",
       "      <th>size_in_bytes</th>\n",
       "      <th>data_inserted</th>\n",
       "      <th>number_of_rows</th>\n",
       "    </tr>\n",
       "  </thead>\n",
       "  <tbody>\n",
       "    <tr>\n",
       "      <th>0</th>\n",
       "      <td>2017-11</td>\n",
       "      <td>clickstream-dewiki-2017-11.tsv.gz</td>\n",
       "      <td>https://dumps.wikimedia.org/other/clickstream/...</td>\n",
       "      <td>55043649</td>\n",
       "      <td>0</td>\n",
       "      <td>0</td>\n",
       "    </tr>\n",
       "    <tr>\n",
       "      <th>1</th>\n",
       "      <td>2017-11</td>\n",
       "      <td>clickstream-enwiki-2017-11.tsv.gz</td>\n",
       "      <td>https://dumps.wikimedia.org/other/clickstream/...</td>\n",
       "      <td>311753414</td>\n",
       "      <td>0</td>\n",
       "      <td>0</td>\n",
       "    </tr>\n",
       "    <tr>\n",
       "      <th>2</th>\n",
       "      <td>2017-11</td>\n",
       "      <td>clickstream-eswiki-2017-11.tsv.gz</td>\n",
       "      <td>https://dumps.wikimedia.org/other/clickstream/...</td>\n",
       "      <td>35215170</td>\n",
       "      <td>0</td>\n",
       "      <td>0</td>\n",
       "    </tr>\n",
       "    <tr>\n",
       "      <th>3</th>\n",
       "      <td>2017-11</td>\n",
       "      <td>clickstream-jawiki-2017-11.tsv.gz</td>\n",
       "      <td>https://dumps.wikimedia.org/other/clickstream/...</td>\n",
       "      <td>21743549</td>\n",
       "      <td>0</td>\n",
       "      <td>0</td>\n",
       "    </tr>\n",
       "    <tr>\n",
       "      <th>4</th>\n",
       "      <td>2017-11</td>\n",
       "      <td>clickstream-ruwiki-2017-11.tsv.gz</td>\n",
       "      <td>https://dumps.wikimedia.org/other/clickstream/...</td>\n",
       "      <td>32058087</td>\n",
       "      <td>0</td>\n",
       "      <td>0</td>\n",
       "    </tr>\n",
       "  </tbody>\n",
       "</table>\n",
       "</div>"
      ],
      "text/plain": [
       "  folder_name                          file_name  \\\n",
       "0     2017-11  clickstream-dewiki-2017-11.tsv.gz   \n",
       "1     2017-11  clickstream-enwiki-2017-11.tsv.gz   \n",
       "2     2017-11  clickstream-eswiki-2017-11.tsv.gz   \n",
       "3     2017-11  clickstream-jawiki-2017-11.tsv.gz   \n",
       "4     2017-11  clickstream-ruwiki-2017-11.tsv.gz   \n",
       "\n",
       "                                        resource_url  size_in_bytes  \\\n",
       "0  https://dumps.wikimedia.org/other/clickstream/...       55043649   \n",
       "1  https://dumps.wikimedia.org/other/clickstream/...      311753414   \n",
       "2  https://dumps.wikimedia.org/other/clickstream/...       35215170   \n",
       "3  https://dumps.wikimedia.org/other/clickstream/...       21743549   \n",
       "4  https://dumps.wikimedia.org/other/clickstream/...       32058087   \n",
       "\n",
       "   data_inserted  number_of_rows  \n",
       "0              0               0  \n",
       "1              0               0  \n",
       "2              0               0  \n",
       "3              0               0  \n",
       "4              0               0  "
      ]
     },
     "execution_count": 29,
     "metadata": {},
     "output_type": "execute_result"
    }
   ],
   "source": [
    "datacatalog.head()"
   ]
  },
  {
   "cell_type": "code",
   "execution_count": 30,
   "metadata": {},
   "outputs": [
    {
     "data": {
      "text/plain": [
       "(503, 6)"
      ]
     },
     "execution_count": 30,
     "metadata": {},
     "output_type": "execute_result"
    }
   ],
   "source": [
    "datacatalog.shape"
   ]
  },
  {
   "cell_type": "code",
   "execution_count": 31,
   "metadata": {},
   "outputs": [
    {
     "data": {
      "text/plain": [
       "folder_name       object\n",
       "file_name         object\n",
       "resource_url      object\n",
       "size_in_bytes      int64\n",
       "data_inserted      int64\n",
       "number_of_rows     int64\n",
       "dtype: object"
      ]
     },
     "execution_count": 31,
     "metadata": {},
     "output_type": "execute_result"
    }
   ],
   "source": [
    "datacatalog.dtypes"
   ]
  },
  {
   "cell_type": "code",
   "execution_count": 32,
   "metadata": {},
   "outputs": [
    {
     "data": {
      "text/plain": [
       "0    503\n",
       "Name: data_inserted, dtype: int64"
      ]
     },
     "execution_count": 32,
     "metadata": {},
     "output_type": "execute_result"
    }
   ],
   "source": [
    "datacatalog.data_inserted.value_counts()"
   ]
  },
  {
   "cell_type": "code",
   "execution_count": 33,
   "metadata": {},
   "outputs": [
    {
     "data": {
      "text/plain": [
       "109"
      ]
     },
     "execution_count": 33,
     "metadata": {},
     "output_type": "execute_result"
    }
   ],
   "source": [
    "datacatalog[datacatalog[\"size_in_bytes\"]> 0].shape[0]"
   ]
  },
  {
   "cell_type": "code",
   "execution_count": 34,
   "metadata": {},
   "outputs": [],
   "source": [
    "sqlite.disconnect()"
   ]
  },
  {
   "cell_type": "code",
   "execution_count": null,
   "metadata": {},
   "outputs": [],
   "source": []
  }
 ],
 "metadata": {
  "interpreter": {
   "hash": "7e5dd7b5ba92773b072f948825c7f59bcabc08784f1f992d01c711dc0e374e40"
  },
  "kernelspec": {
   "display_name": "Python 3.7.8 64-bit",
   "language": "python",
   "name": "python3"
  },
  "language_info": {
   "codemirror_mode": {
    "name": "ipython",
    "version": 3
   },
   "file_extension": ".py",
   "mimetype": "text/x-python",
   "name": "python",
   "nbconvert_exporter": "python",
   "pygments_lexer": "ipython3",
   "version": "3.7.6"
  },
  "orig_nbformat": 4
 },
 "nbformat": 4,
 "nbformat_minor": 2
}
